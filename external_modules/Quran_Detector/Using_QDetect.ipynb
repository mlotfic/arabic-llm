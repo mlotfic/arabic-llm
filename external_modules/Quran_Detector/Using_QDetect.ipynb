{
 "cells": [
  {
   "cell_type": "markdown",
   "metadata": {},
   "source": [
    "# A Quick Guide to Using the Quran Detector-Annotator "
   ]
  },
  {
   "cell_type": "markdown",
   "metadata": {},
   "source": [
    "<b>The paper describing the approach followed in carrying out this work is available from: </b> https://www.sciencedirect.com/science/article/pii/S1877050921012321 <br>\n",
    "<b> If using this tool in your work, please use the following citation: </b><br>\n",
    "<code>Samhaa R El-Beltagy and Ahmed Rafea, \"QDetect: An Intelligent Tool for Detecting Quranic Verses in any Text\", Procedia Computer Science,Volume 189, Pages 374-381, 2021.  </code>"
   ]
  },
  {
   "cell_type": "markdown",
   "metadata": {},
   "source": [
    "## First step\n",
    "### pip install QDetect"
   ]
  },
  {
   "cell_type": "code",
   "execution_count": 1,
   "metadata": {},
   "outputs": [],
   "source": [
    "import QDetect.qdetect as qdetect\n",
    "import codecs"
   ]
  },
  {
   "cell_type": "markdown",
   "metadata": {},
   "source": [
    "## Creating a matcher-annotater object"
   ]
  },
  {
   "cell_type": "code",
   "execution_count": 2,
   "metadata": {},
   "outputs": [
    {
     "name": "stdout",
     "output_type": "stream",
     "text": [
      "Matcher/Annotator created! \n"
     ]
    }
   ],
   "source": [
    "qAn = qdetect.qMatcherAnnotater()"
   ]
  },
  {
   "cell_type": "markdown",
   "metadata": {},
   "source": [
    "## Detecting Verses in text\n",
    "<b>To detect all qur’anic verses in any piece of text, the following method should be used: <br></b>\n",
    "```Python\n",
    "  <qMatcherAnnotaterOBj>.matchAll(inputText, findErr, findMissing, allowedErrPers, minMatch, return_json, delimeterList)\n",
    "  print(intext)```\n",
    "The method returns a list of dictionaries  where each dictionary represents an  independent entry as shown in the example below. Here is a brief description of each of the method's input parameters:\n",
    "Whether you are returning a list of dictionaries or a list of json objects, the following fields exist for each list entry\n",
    "```Python\n",
    "      'inputText': the text you would like to detect verses within. This is a mandatory parameter,\n",
    "      'finderr': a flag that indicates whether you want the code to detect simple typos or not. The default is True,\n",
    "      'findMissing':  a flag that indicates whether you want the code to detect a missing word.  The default is True,\n",
    "      'allowedErrPers': a real number representing the allowed error percentage if finderr is True. Default = 0.25 \n",
    "      'minMatch': minimum number of words to return a result. Default is 3. Lower vals will not affect results, but higher will. \n",
    "      'return_json': a flag that indicates whether a list of json objects should be returned or a list of dictionaries. Default is False \n",
    "      'd': a custom list of delimiters to use. The default is: '#|،|\\\\.|{|}|\\n|؟|!|\\\\(|\\\\)|﴿|﴾|۞|\\u06dd|\\\\*|-|\\\\+|\\\\:|…'\n",
    "```\n",
    "<b>Since all parameters except <code>inputText</code>, have default values, you can simply call the method like this:</b>\n",
    "\n",
    "```Python \n",
    "    <qMatcherAnnotaterOBj>.matchAll(inText)```\n",
    "as in the example below. \n",
    "Whether you are returning a list of dictionaries or a list of json objects, the following fields exist for each list entry\n",
    "```Python\n",
    "      'aya_name': the name of the aya that has been detected,\n",
    "      'verses': a list of verses belonging to the detected aya,\n",
    "      'errors': a list of lists whose number is equivalent to the num of detected verses. List entry 1 contains errors        that occurred in verse 1 or an empty list if no errors have occurred, while list 2 contains errors for verse 2, ... \n",
    "      'startInText': The index of the word start position  of the aya (in the input text),\n",
    "      'endInText': the index of the end position of the aya +1  (in the input text),\n",
    "      'aya_start': the number of the first verse appearing in the text,\n",
    "      'aya_end': the number of the last verse appearing in the text\n",
    "    ```"
   ]
  },
  {
   "cell_type": "code",
   "execution_count": 3,
   "metadata": {},
   "outputs": [
    {
     "name": "stdout",
     "output_type": "stream",
     "text": [
      "[{'aya_name': 'غافر', 'verses': ['الذين يحملون العرش ومن حوله يسبحون بحمد ربهم'], 'errors': [[('يسبحو', 'يسبحون', 18)]], 'startInText': 13, 'endInText': 21, 'aya_start': 7, 'aya_end': 7}, {'aya_name': 'الكهف', 'verses': ['واذكر ربك اذا نسيت'], 'errors': [[]], 'startInText': 21, 'endInText': 25, 'aya_start': 24, 'aya_end': 24}]\n",
      "2 entrie(s) returned.\n"
     ]
    }
   ],
   "source": [
    "#Calling matchAll without changing any of the values of the default parmaters \n",
    "txt = \"RT @user: كرامة المؤمن عند الله تعالى؛ حيث سخر له الملائكة يستغفرون له ﴿الذِين يحملونَ العرشَ ومَن حَولهُ يُسبحو بِحمدِ ربهِم واذكر ربك إذا نسيت…\"  \n",
    "vs = qAn.matchAll(txt)\n",
    "print(vs)\n",
    "print(len(vs), 'entrie(s) returned.' )"
   ]
  },
  {
   "cell_type": "code",
   "execution_count": 4,
   "metadata": {},
   "outputs": [
    {
     "name": "stdout",
     "output_type": "stream",
     "text": [
      "[{'aya_name': 'الإخلاص', 'verses': ['قل هو الله احد', 'الله الصمد', 'لم يلد ولم يولد'], 'errors': [[], [], []], 'startInText': 6, 'endInText': 18, 'aya_start': 1, 'aya_end': 3}]\n",
      "1 entrie(s) returned.\n"
     ]
    }
   ],
   "source": [
    "#Another example\n",
    "txt = 'RT @user: بسْمِ اللهِ الرَّحْمَنِ الرَّحِيمِ  قُلْ هُوَ اللَّهُ أَحَدٌ ۞ اللَّهُ الصَّمَدُ ۞ لَمْ يَلِدْ وَلَمْ يُولَدْ ۞ وَلَمْ يَ…'\n",
    "vs = qAn.matchAll(txt)\n",
    "print(vs)\n",
    "print(len(vs), 'entrie(s) returned.' )"
   ]
  },
  {
   "cell_type": "code",
   "execution_count": 5,
   "metadata": {},
   "outputs": [
    {
     "name": "stdout",
     "output_type": "stream",
     "text": [
      "[{'aya_name': 'البقرة', 'verses': ['الم', 'ذلك الكتاب لا ريب فيه هدي للمتقين'], 'errors': [[], [('هدي', 'فيه هدي', 5)]], 'startInText': 0, 'endInText': 7, 'aya_start': 1, 'aya_end': 2}]\n",
      "1 entrie(s) returned.\n"
     ]
    }
   ],
   "source": [
    "#an example where a missing word is detected\n",
    "txt = 'الم ذلك الكتاب لا ريب هدي للمتقين'\n",
    "vs = qAn.matchAll(txt)\n",
    "print(vs)\n",
    "print(len(vs), 'entrie(s) returned.' )"
   ]
  },
  {
   "cell_type": "code",
   "execution_count": 6,
   "metadata": {},
   "outputs": [
    {
     "name": "stdout",
     "output_type": "stream",
     "text": [
      "[{'aya_name': 'الإخلاص', 'verses': ['قل هو الله احد', 'الله الصمد', 'لم يلد ولم يولد'], 'errors': [[], [], []], 'startInText': 11, 'endInText': 23, 'aya_start': 1, 'aya_end': 3}]\n",
      "1 entrie(s) returned.\n"
     ]
    }
   ],
   "source": [
    "txt = 'RT @HolyQraan: من قرأها ثلاث مرات فكأنما قرأ القرآن كاملا ..   ﴿قُلْ هُوَ اللَّهُ أَحَدٌ ۝ اللَّهُ الصَّمَدُ ۝ لَمْ يَلِدْ وَلَمْ يُولَدْ…'\n",
    "vs = qAn.matchAll(txt)\n",
    "print(vs)\n",
    "print(len(vs), 'entrie(s) returned.' )"
   ]
  },
  {
   "cell_type": "markdown",
   "metadata": {},
   "source": [
    "#### Using the error detection flags\n",
    "The error detection options are used by default, but those slow down the matching process significantly. You should <b>only</b> use those when you want to detect spelling mistakes or missing words in a verse. Mis-spelling a word or forgetting the word are the most common mistakes that people make when writing Qur’an from memory. Below is a list of the flags used for error detection and their default values:\n",
    "```Python\n",
    " findErr=True            #this flag should always be set to true if you want to detect spelling mistakes and false otherwise \n",
    "\n",
    " allowedErrPers=0.25     #if findErr is set to true, this flag controls how the % of words that can be considered wrong when returning a match.  If the errs are greater than this %, a match will not be returned. A 4 word verse for example, can only have 1 word which is misspelled. Higher values lead to higher recall but lower precision and vice versa. \n",
    "\n",
    " findMissing=True\n",
    "\n",
    "```\n",
    "Below are some examples "
   ]
  },
  {
   "cell_type": "code",
   "execution_count": 7,
   "metadata": {},
   "outputs": [
    {
     "name": "stdout",
     "output_type": "stream",
     "text": [
      "[{'aya_name': 'الإخلاص', 'verses': ['قل هو الله احد', 'الله الصمد', 'لم يلد ولم يولد'], 'errors': [[('هوا', 'هو', 12)], [], []], 'startInText': 11, 'endInText': 23, 'aya_start': 1, 'aya_end': 3}]\n",
      "1 entrie(s) returned.\n"
     ]
    }
   ],
   "source": [
    "# here we will mis-spell هو\n",
    "# the mis-spelled word appears in the error list of the first verse. \n",
    "txt = 'RT @HolyQraan: من قرأها ثلاث مرات فكأنما قرأ القرآن كاملا ..   ﴿قُلْ هُوَا اللَّهُ أَحَدٌ ۝ اللَّهُ الصَّمَدُ ۝ لَمْ يَلِدْ وَلَمْ يُولَدْ…'\n",
    "vs = qAn.matchAll(txt)\n",
    "print(vs)\n",
    "print(len(vs), 'entrie(s) returned.' )\n"
   ]
  },
  {
   "cell_type": "code",
   "execution_count": 8,
   "metadata": {},
   "outputs": [
    {
     "name": "stdout",
     "output_type": "stream",
     "text": [
      "[{'aya_name': 'الإخلاص', 'verses': ['الله الصمد', 'لم يلد ولم يولد'], 'errors': [[], []], 'startInText': 16, 'endInText': 23, 'aya_start': 2, 'aya_end': 3}]\n"
     ]
    }
   ],
   "source": [
    "#here we turn off the error detection option. Notice how the verse with the error is no longer detected. \n",
    "txt = 'RT @HolyQraan: من قرأها ثلاث مرات فكأنما قرأ القرآن كاملا ..   ﴿قُلْ هُوَا اللَّهُ أَحَدٌ ۝ اللَّهُ الصَّمَدُ ۝ لَمْ يَلِدْ وَلَمْ يُولَدْ…'\n",
    "vs = qAn.matchAll(txt, findErr= False)\n",
    "print(vs)\n"
   ]
  },
  {
   "cell_type": "code",
   "execution_count": 9,
   "metadata": {},
   "outputs": [
    {
     "name": "stdout",
     "output_type": "stream",
     "text": [
      "[{'aya_name': 'الإخلاص', 'verses': ['قل هو الله احد', 'الله الصمد', 'لم يلد ولم يولد'], 'errors': [[('احد', 'الله احد', 13)], [], []], 'startInText': 11, 'endInText': 22, 'aya_start': 1, 'aya_end': 3}]\n",
      "1 entrie(s) returned.\n"
     ]
    }
   ],
   "source": [
    "# here we remove الله from the first verse\n",
    "# the missing word appears in the error list of the first verse. \n",
    "txt = 'RT @HolyQraan: من قرأها ثلاث مرات فكأنما قرأ القرآن كاملا ..   ﴿قُلْ هُوَ أَحَدٌ ۝ اللَّهُ الصَّمَدُ ۝ لَمْ يَلِدْ وَلَمْ يُولَدْ…'\n",
    "vs = qAn.matchAll(txt)\n",
    "print(vs)\n",
    "print(len(vs), 'entrie(s) returned.' )\n"
   ]
  },
  {
   "cell_type": "code",
   "execution_count": 10,
   "metadata": {},
   "outputs": [
    {
     "name": "stdout",
     "output_type": "stream",
     "text": [
      "[{'aya_name': 'الإخلاص', 'verses': ['الله الصمد', 'لم يلد ولم يولد'], 'errors': [[], []], 'startInText': 15, 'endInText': 22, 'aya_start': 2, 'aya_end': 3}]\n"
     ]
    }
   ],
   "source": [
    "#now we dis-able the detection of missing words. Again, the verse where a missing word exists, is now no longer detected. \n",
    "txt = 'RT @HolyQraan: من قرأها ثلاث مرات فكأنما قرأ القرآن كاملا ..   ﴿قُلْ هُوَ أَحَدٌ ۝ اللَّهُ الصَّمَدُ ۝ لَمْ يَلِدْ وَلَمْ يُولَدْ…'\n",
    "vs = qAn.matchAll(txt, findMissing=False)\n",
    "print(vs)"
   ]
  },
  {
   "cell_type": "code",
   "execution_count": 11,
   "metadata": {},
   "outputs": [
    {
     "name": "stdout",
     "output_type": "stream",
     "text": [
      "With the default error tolerance of 25% or 0.25 (no matches returned):\n",
      "[]\n",
      "With the increaced error tolerance:\n",
      "[{'aya_name': 'الإخلاص', 'verses': ['قل هو الله احد'], 'errors': [[('هوا', 'هو', 12), ('اح', 'احد', 14)]], 'startInText': 11, 'endInText': 15, 'aya_start': 1, 'aya_end': 1}]\n"
     ]
    }
   ],
   "source": [
    "#In this example we increase the error tolerance. This is not advised because you might end up with matches that are not accurate\n",
    "\n",
    "#With the default error tolerance of 25% or 0.25\n",
    "txt = 'RT @HolyQraan: من قرأها ثلاث مرات فكأنما قرأ القرآن كاملا ..   ﴿قُلْ هُوَا اللَّهُ أَحَ…'\n",
    "print('With the default error tolerance of 25% or 0.25 (no matches returned):')\n",
    "vs = qAn.matchAll(txt)\n",
    "print(vs)\n",
    "#With the increaced error tolerance\n",
    "vs = qAn.matchAll(txt, allowedErrPers=0.5)\n",
    "print('With the increaced error tolerance:')\n",
    "print(vs)\n"
   ]
  },
  {
   "cell_type": "markdown",
   "metadata": {},
   "source": [
    "## Annotating Text\n",
    "Annotating text in the context of this work, means detecting Quranic verses in text, replacing them with their correct diacriticized forms, and adding a reference to the original verses in Quran. To detect Quranic verses and annotate them, the following method should be used: <br>\n",
    "```Python\n",
    "    <qMatcherAnnotaterOBj>.annotateTxt(inputText, findErrs, findMissing, allowedErrPers, minMatch, delimeterList)\n",
    "    print(intext)```\n",
    "In most cases, you can simply use\n",
    "```Python \n",
    "    <qMatcherAnnotaterOBj>.annotateTxt(inText)```\n",
    "as in the example below. The defaults for <b>findErr</b> and <b>findMissing</b> is <b>True</b>. An internal delimiter list is used when one is not specified. Dots before a verse, mean that there is some other text in the original verse preceding the detected text. Dots after, mean that the verse has some more text.  Please note that error detection flags can be used in the exact same way as with the matching examples shown in the above section. "
   ]
  },
  {
   "cell_type": "code",
   "execution_count": 12,
   "metadata": {},
   "outputs": [
    {
     "name": "stdout",
     "output_type": "stream",
     "text": [
      "\n",
      "RT @user:... كرامة المؤمن عند الله تعالى؛ حيث سخر له الملائكة يستغفرون له\"الَّذِينَ يَحْمِلُونَ الْعَرْشَ وَمَنْ حَوْلَهُ يُسَبِّحُونَ بِحَمْدِ رَبِّهِمْ...\"(غافر:7)\n"
     ]
    }
   ],
   "source": [
    "txt = \"RT @user:... كرامة المؤمن عند الله تعالى؛ حيث سخر له الملائكة يستغفرون له ﴿الذِين يحملونَ العرشَ ومَن حَولهُ يُسبحونَ بِحمدِ ربهِم…\"\n",
    "t = qAn.annotateTxt(txt)\n",
    "print('')\n",
    "print(t)"
   ]
  },
  {
   "cell_type": "code",
   "execution_count": 13,
   "metadata": {},
   "outputs": [
    {
     "data": {
      "text/plain": [
       "'\"وَاسْتَعِينُوا بِالصَّبْرِ وَالصَّلَاةِ ۚ وَإِنَّهَا لَكَبِيرَةٌ إِلَّا عَلَى الْخَاشِعِينَ\"(البقرة:45)'"
      ]
     },
     "execution_count": 13,
     "metadata": {},
     "output_type": "execute_result"
    }
   ],
   "source": [
    "#note how the last word has been automatically corrected \n",
    "txt = ' واستعينوا بالصبر والصلاه وانها لكبيره الا علي الخشعين'\n",
    "qAn.annotateTxt(txt)"
   ]
  },
  {
   "cell_type": "code",
   "execution_count": 17,
   "metadata": {},
   "outputs": [
    {
     "name": "stdout",
     "output_type": "stream",
     "text": [
      "This is the list of default delimiters:\n"
     ]
    },
    {
     "data": {
      "text/plain": [
       "'#|،|\\\\.|{|}|\\n|؟|!|\\\\(|\\\\)|﴿|﴾|۞|\\u06dd|\\\\*|-|\\\\+|\\\\:|…'"
      ]
     },
     "execution_count": 17,
     "metadata": {},
     "output_type": "execute_result"
    }
   ],
   "source": [
    "print(\"This is the list of default delimiters:\")\n",
    "qdetect.globalDelimeters"
   ]
  },
  {
   "cell_type": "code",
   "execution_count": 18,
   "metadata": {},
   "outputs": [
    {
     "data": {
      "text/plain": [
       "'RT @7Life4ever: ﷽\"قُلْ هُوَ اللَّهُ أَحَدٌ، اللَّهُ الصَّمَدُ، لَمْ يَلِدْ وَلَمْ يُولَدْ، وَلَمْ يَكُنْ لَهُ كُفُوًا أَحَدٌ\"(الإخلاص:1-4) ﷽\"قُلْ أَعُوذُ بِرَبِّ الْفَلَقِ، مِنْ شَرِّ مَا خَلَقَ، وَمِنْ شَرِّ غَاسِقٍ إِذَا وَقَبَ\"(الفلق:1-3)\\u06dd ومن شر ا…'"
      ]
     },
     "execution_count": 18,
     "metadata": {},
     "output_type": "execute_result"
    }
   ],
   "source": [
    "txt = 'RT @7Life4ever: ﷽  قل هو ﷲ أحد۝ ﷲ الصمد۝لم يلد ولم يولد۝ولم يكن له كفوا أحد  ﷽  قل أعوذ برب الفلق۝من شر ما خلق ۝ومن شر غاسق إذا وقب۝ومن شر ا…'\n",
    "qAn.annotateTxt(txt)"
   ]
  },
  {
   "cell_type": "code",
   "execution_count": null,
   "metadata": {},
   "outputs": [],
   "source": []
  }
 ],
 "metadata": {
  "kernelspec": {
   "display_name": "Python 3",
   "language": "python",
   "name": "python3"
  },
  "language_info": {
   "codemirror_mode": {
    "name": "ipython",
    "version": 3
   },
   "file_extension": ".py",
   "mimetype": "text/x-python",
   "name": "python",
   "nbconvert_exporter": "python",
   "pygments_lexer": "ipython3",
   "version": "3.6.2"
  }
 },
 "nbformat": 4,
 "nbformat_minor": 2
}
